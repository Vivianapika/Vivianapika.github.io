{
  "cells": [
    {
      "cell_type": "raw",
      "id": "e918a5d0",
      "metadata": {},
      "source": [
        "---\n",
        "title: \"Learning spaCy\"\n",
        "author: \"Vivian\"\n",
        "date: \"2024-06-12\"\n",
        "categories: [nlp]\n",
        "image: \"image.jpg\"\n",
        "jupyter: env\n",
        "---"
      ]
    },
    {
      "cell_type": "markdown",
      "id": "dd887654",
      "metadata": {},
      "source": [
        "This is a post about NLP in a Quarto blog. Welcome!\n",
        "\n",
        "## spaCy 101\n",
        "[](https://spacy.io/usage/spacy-101)\n",
        "\n",
        "![pipeline](pipeline.svg)\n",
        "![Architecture](architecture.svg)\n"
      ]
    },
    {
      "cell_type": "code",
      "execution_count": null,
      "id": "90ff7ae7",
      "metadata": {
        "vscode": {
          "languageId": "python"
        }
      },
      "outputs": [],
      "source": [
        "import spacy\n",
        "nlp = spacy.load(\"en_core_web_sm\")\n",
        "\n",
        "# Shared vocab and string store\n",
        "nlp.vocab.strings.add(\"coffee\")\n",
        "coffee_hash = nlp.vocab.strings[\"coffee\"]\n",
        "coffee_string = nlp.vocab.strings[coffee_hash]\n",
        "doc = nlp(\"I love coffee\")\n",
        "print(\"hash value:\", nlp.vocab.strings[\"coffee\"])\n",
        "print(\"string value:\", nlp.vocab.strings[3197928453018144401])"
      ]
    },
    {
      "cell_type": "code",
      "execution_count": null,
      "id": "34c0d3b4",
      "metadata": {
        "vscode": {
          "languageId": "python"
        }
      },
      "outputs": [],
      "source": [
        "# Lexemes: entries in the vocabulary\n",
        "doc = nlp(\"I love coffee\")\n",
        "lexeme = nlp.vocab[\"coffee\"]\n",
        "# Print the lexical attributes\n",
        "print(lexeme.text, lexeme.orth, lexeme.is_alpha)"
      ]
    }
  ],
  "metadata": {
    "kernelspec": {
      "display_name": "ds",
      "language": "python",
      "name": "ds"
    }
  },
  "nbformat": 4,
  "nbformat_minor": 5
}
